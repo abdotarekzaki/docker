{
 "cells": [
  {
   "cell_type": "code",
   "execution_count": 2,
   "id": "6992f350-c787-4d34-b825-5f85e69ccd98",
   "metadata": {},
   "outputs": [
    {
     "name": "stdout",
     "output_type": "stream",
     "text": [
      "Collecting pandas\n",
      "  Downloading pandas-2.2.2-cp311-cp311-manylinux_2_17_x86_64.manylinux2014_x86_64.whl.metadata (19 kB)\n",
      "Collecting numpy>=1.23.2 (from pandas)\n",
      "  Downloading numpy-1.26.4-cp311-cp311-manylinux_2_17_x86_64.manylinux2014_x86_64.whl.metadata (61 kB)\n",
      "\u001b[2K     \u001b[90m━━━━━━━━━━━━━━━━━━━━━━━━━━━━━━━━━━━━━━━\u001b[0m \u001b[32m61.0/61.0 kB\u001b[0m \u001b[31m915.0 kB/s\u001b[0m eta \u001b[36m0:00:00\u001b[0m \u001b[36m0:00:01\u001b[0m\n",
      "\u001b[?25hRequirement already satisfied: python-dateutil>=2.8.2 in /opt/conda/lib/python3.11/site-packages (from pandas) (2.8.2)\n",
      "Requirement already satisfied: pytz>=2020.1 in /opt/conda/lib/python3.11/site-packages (from pandas) (2023.3.post1)\n",
      "Collecting tzdata>=2022.7 (from pandas)\n",
      "  Downloading tzdata-2024.1-py2.py3-none-any.whl.metadata (1.4 kB)\n",
      "Requirement already satisfied: six>=1.5 in /opt/conda/lib/python3.11/site-packages (from python-dateutil>=2.8.2->pandas) (1.16.0)\n",
      "Downloading pandas-2.2.2-cp311-cp311-manylinux_2_17_x86_64.manylinux2014_x86_64.whl (13.0 MB)\n",
      "\u001b[2K   \u001b[90m━━━━━━━━━━━━━━━━━━━━━━━━━━━━━━━━━━━━━━━━\u001b[0m \u001b[32m13.0/13.0 MB\u001b[0m \u001b[31m3.3 MB/s\u001b[0m eta \u001b[36m0:00:00\u001b[0m00:01\u001b[0m00:01\u001b[0m\n",
      "\u001b[?25hDownloading numpy-1.26.4-cp311-cp311-manylinux_2_17_x86_64.manylinux2014_x86_64.whl (18.3 MB)\n",
      "\u001b[2K   \u001b[90m━━━━━━━━━━━━━━━━━━━━━━━━━━━━━━━━━━━━━━━━\u001b[0m \u001b[32m18.3/18.3 MB\u001b[0m \u001b[31m3.4 MB/s\u001b[0m eta \u001b[36m0:00:00\u001b[0m00:01\u001b[0m00:01\u001b[0m\n",
      "\u001b[?25hDownloading tzdata-2024.1-py2.py3-none-any.whl (345 kB)\n",
      "\u001b[2K   \u001b[90m━━━━━━━━━━━━━━━━━━━━━━━━━━━━━━━━━━━━━━━━\u001b[0m \u001b[32m345.4/345.4 kB\u001b[0m \u001b[31m3.4 MB/s\u001b[0m eta \u001b[36m0:00:00\u001b[0ma \u001b[36m0:00:01\u001b[0m\n",
      "\u001b[?25hInstalling collected packages: tzdata, numpy, pandas\n",
      "Successfully installed numpy-1.26.4 pandas-2.2.2 tzdata-2024.1\n",
      "Note: you may need to restart the kernel to use updated packages.\n"
     ]
    }
   ],
   "source": [
    "pip install pandas"
   ]
  },
  {
   "cell_type": "code",
   "execution_count": 7,
   "id": "b5e1907f-4543-490a-8a49-40d0a4e836dd",
   "metadata": {},
   "outputs": [
    {
     "name": "stdout",
     "output_type": "stream",
     "text": [
      "Most selling Harry Potter book:\n",
      "   book_id  goodreads_book_id  best_book_id  work_id  books_count       isbn  \\\n",
      "1        2                  3             3  4640799          491  439554934   \n",
      "\n",
      "         isbn13                      authors  original_publication_year  \\\n",
      "1  9.780440e+12  J.K. Rowling, Mary GrandPré                     1997.0   \n",
      "\n",
      "                             original_title  ... ratings_count  \\\n",
      "1  Harry Potter and the Philosopher's Stone  ...       4602479   \n",
      "\n",
      "  work_ratings_count  work_text_reviews_count  ratings_1  ratings_2  \\\n",
      "1            4800065                    75867      75504     101676   \n",
      "\n",
      "   ratings_3  ratings_4  ratings_5  \\\n",
      "1     455024    1156318    3011543   \n",
      "\n",
      "                                           image_url  \\\n",
      "1  https://images.gr-assets.com/books/1474154022m...   \n",
      "\n",
      "                                     small_image_url  \n",
      "1  https://images.gr-assets.com/books/1474154022s...  \n",
      "\n",
      "[1 rows x 23 columns]\n",
      "Average rating of Harry Potter books: 4.4910000000000005\n"
     ]
    }
   ],
   "source": [
    "import pandas as pd\n",
    "import numpy as np\n",
    "\n",
    "# Load the Popular Books Dataset into a pandas DataFrame\n",
    "df = pd.read_csv('books.csv')\n",
    "\n",
    "# Display the first few rows of the dataset to understand its structure\n",
    "df.head()\n",
    "\n",
    "# Perform data cleaning steps\n",
    "# Handle missing values\n",
    "df.dropna(inplace=True)\n",
    "\n",
    "# Remove duplicates\n",
    "df.drop_duplicates(inplace=True)\n",
    "\n",
    "# Filter the dataset to focus only on the Harry Potter book series\n",
    "harry_potter_books = df[df['original_title'].str.contains('Harry Potter')]\n",
    "\n",
    "# Analyze the dataset to find the most selling books within the Harry Potter series\n",
    "most_selling_books = harry_potter_books.sort_values(by='ratings_count', ascending=False).head(1)\n",
    "\n",
    "# Calculate the average rating of the Harry Potter books\n",
    "average_rating = harry_potter_books['average_rating'].mean()\n",
    "\n",
    "# Display the most selling Harry Potter book\n",
    "print(\"Most selling Harry Potter book:\")\n",
    "print(most_selling_books)\n",
    "\n",
    "# Display the average rating of the Harry Potter books\n",
    "print(\"Average rating of Harry Potter books:\", average_rating)"
   ]
  }
 ],
 "metadata": {
  "kernelspec": {
   "display_name": "Python 3 (ipykernel)",
   "language": "python",
   "name": "python3"
  },
  "language_info": {
   "codemirror_mode": {
    "name": "ipython",
    "version": 3
   },
   "file_extension": ".py",
   "mimetype": "text/x-python",
   "name": "python",
   "nbconvert_exporter": "python",
   "pygments_lexer": "ipython3",
   "version": "3.11.6"
  }
 },
 "nbformat": 4,
 "nbformat_minor": 5
}
